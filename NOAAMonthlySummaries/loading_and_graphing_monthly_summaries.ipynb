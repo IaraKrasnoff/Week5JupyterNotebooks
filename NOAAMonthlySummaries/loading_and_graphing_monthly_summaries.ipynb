{
 "cells": [
  {
   "cell_type": "markdown",
   "metadata": {},
   "source": [
    "# Loading And Graphing Monthly Summaries"
   ]
  },
  {
   "cell_type": "code",
   "execution_count": 10,
   "metadata": {},
   "outputs": [],
   "source": [
    "# Make the json_helper module available to this notebook.\n",
    "\n",
    "import sys\n",
    "import os\n",
    "\n",
    "# Add the NOAADailySummaries directory to Python path\n",
    "json_helper_path = os.path.abspath('../NOAADailySummaries')\n",
    "if json_helper_path not in sys.path:\n",
    "    sys.path.insert(0, json_helper_path)\n",
    "\n",
    "# Now import all required modules\n",
    "import json_helper\n",
    "import pandas as pd\n",
    "import matplotlib \n",
    "import matplotlib.pyplot as plt\n",
    "import json\n",
    "import datetime\n",
    "  \n",
    "\n",
    "\n",
    "\n"
   ]
  },
  {
   "cell_type": "code",
   "execution_count": 27,
   "metadata": {},
   "outputs": [],
   "source": [
    "# Using the json_helper module, load all of the json files acquired in part one of this lab into a Pandas DataFrame.\n",
    "def read_json(file_path):\n",
    "    with open(file_path, 'r', encoding='utf-8') as file:\n",
    "        data = json.load(file)[\"results\"]\n",
    "    return data\n",
    "\n",
    "def read_all_json_files(JSON_ROOT):\n",
    "    all_records = []\n",
    "    for item_name in os.listdir(JSON_ROOT):\n",
    "        item_path = os.path.join(JSON_ROOT, item_name)\n",
    "        if os.path.isfile(item_path) and item_name.endswith(\".json\"):\n",
    "            with open(item_path, 'r', encoding='utf-8') as f:\n",
    "                subdata = read_json(item_path)\n",
    "                for obj in subdata:\n",
    "                    obj[\"source_file\"] = item_name  # Track the source file\n",
    "                    all_records.append(obj)\n",
    "\n",
    "    return pd.DataFrame(all_records)\n",
    "\n",
    "df = read_all_json_files('./data/monthly_summaries')"
   ]
  },
  {
   "cell_type": "code",
   "execution_count": 28,
   "metadata": {},
   "outputs": [
    {
     "name": "stdout",
     "output_type": "stream",
     "text": [
      "<class 'pandas.core.frame.DataFrame'>\n",
      "RangeIndex: 3259 entries, 0 to 3258\n",
      "Data columns (total 6 columns):\n",
      " #   Column       Non-Null Count  Dtype  \n",
      "---  ------       --------------  -----  \n",
      " 0   date         3259 non-null   object \n",
      " 1   datatype     3259 non-null   object \n",
      " 2   station      3259 non-null   object \n",
      " 3   attributes   3259 non-null   object \n",
      " 4   value        3259 non-null   float64\n",
      " 5   source_file  3259 non-null   object \n",
      "dtypes: float64(1), object(5)\n",
      "memory usage: 152.9+ KB\n"
     ]
    }
   ],
   "source": [
    "# Display a summary of the DataFrame\n",
    "df.info()\n"
   ]
  },
  {
   "cell_type": "code",
   "execution_count": 29,
   "metadata": {},
   "outputs": [
    {
     "name": "stdout",
     "output_type": "stream",
     "text": [
      "Checking directory: /Users/iara/Projects/Week5JupyterNotebooks/NOAAMonthlySummaries/data/monthly_summaries\n",
      "Directory exists: True\n",
      "Total files: 11\n",
      "JSON files: 9\n",
      "JSON files found:\n",
      "  - FIPS10003_avg_1958_to_1967.json (89791 bytes)\n",
      "  - FIPS10003_avg_1998_to_2007.json (72130 bytes)\n",
      "  - FIPS10003_avg_1978_to_1987.json (92057 bytes)\n",
      "  - FIPS10003_avg_1968_to_1977.json (94541 bytes)\n",
      "  - FIPS10003_avg_2008_to_2017.json (57780 bytes)\n",
      "  - FIPS10003_avg_2018_to_2018.json (4533 bytes)\n",
      "  - FIPS10003_avg_1948_to_1957.json (98877 bytes)\n",
      "  - FIPS10003_avg_1938_to_1947.json (66345 bytes)\n",
      "  - FIPS10003_avg_1988_to_1997.json (73079 bytes)\n"
     ]
    }
   ],
   "source": [
    "# How many stations are there?\n",
    "# How many rows are associated with each DataFrame?\n",
    "\n",
    "# Debug: Check what files exist in the data directory\n",
    "import os\n",
    "\n",
    "data_dir = './data/monthly_summaries'\n",
    "print(f\"Checking directory: {os.path.abspath(data_dir)}\")\n",
    "print(f\"Directory exists: {os.path.exists(data_dir)}\")\n",
    "\n",
    "if os.path.exists(data_dir):\n",
    "    files = os.listdir(data_dir)\n",
    "    json_files = [f for f in files if f.endswith('.json')]\n",
    "    print(f\"Total files: {len(files)}\")\n",
    "    print(f\"JSON files: {len(json_files)}\")\n",
    "    \n",
    "    if json_files:\n",
    "        print(\"JSON files found:\")\n",
    "        for f in json_files:\n",
    "            filepath = os.path.join(data_dir, f)\n",
    "            size = os.path.getsize(filepath)\n",
    "            print(f\"  - {f} ({size} bytes)\")\n",
    "    else:\n",
    "        print(\"No JSON files found!\")\n",
    "        print(\"All files in directory:\")\n",
    "        for f in files:\n",
    "            print(f\"  - {f}\")\n",
    "else:\n",
    "    print(\"Data directory does not exist!\")\n"
   ]
  },
  {
   "cell_type": "markdown",
   "metadata": {},
   "source": [
    "# Narrow our analysis to station id: GHCND:USW00013781\n",
    "\n",
    "https://www.ncdc.noaa.gov/cdo-web/api/v2/stations/GHCND:USW00013781\n"
   ]
  }
 ],
 "metadata": {
  "kernelspec": {
   "display_name": "venv (3.11.13)",
   "language": "python",
   "name": "python3"
  },
  "language_info": {
   "codemirror_mode": {
    "name": "ipython",
    "version": 3
   },
   "file_extension": ".py",
   "mimetype": "text/x-python",
   "name": "python",
   "nbconvert_exporter": "python",
   "pygments_lexer": "ipython3",
   "version": "3.11.13"
  }
 },
 "nbformat": 4,
 "nbformat_minor": 2
}
