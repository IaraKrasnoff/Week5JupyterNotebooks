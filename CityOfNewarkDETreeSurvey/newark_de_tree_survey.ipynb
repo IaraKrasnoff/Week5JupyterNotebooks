{
 "cells": [
  {
   "cell_type": "code",
   "execution_count": 5,
   "metadata": {},
   "outputs": [],
   "source": [
    "import pandas as pd\n",
    "import numpy as np"
   ]
  },
  {
   "cell_type": "markdown",
   "metadata": {},
   "source": [
    "# Read a comma-separated values (csv) file into DataFrame.\n",
    "\n",
    "The data folder contains a file named \"newark_tree_data.csv\". Read this file into a dataframe.\n",
    "\n",
    "\n",
    "resources:\n",
    "* [Pandas read csv docs](https://pandas.pydata.org/pandas-docs/stable/reference/api/pandas.read_csv.html#pandas.read_csv)"
   ]
  },
  {
   "cell_type": "code",
   "execution_count": 6,
   "metadata": {},
   "outputs": [],
   "source": [
    "# Create DataFrame here.\n",
    "df = pd.read_csv('data/newark_tree_data.csv') \n",
    "                "
   ]
  },
  {
   "cell_type": "code",
   "execution_count": 7,
   "metadata": {},
   "outputs": [
    {
     "name": "stdout",
     "output_type": "stream",
     "text": [
      "     ID         ON       AREA  ADDRESS       STREET  SITE   SIDE  ASSIGNED  \\\n",
      "0  11.0  Elan Park  Elan Park        2  Blue Hen Rg  11.0  Front     False   \n",
      "1  12.0  Elan Park  Elan Park        2  Blue Hen Rg  12.0  Front     False   \n",
      "2  13.0  Elan Park  Elan Park        2  Blue Hen Rg  13.0  Front     False   \n",
      "3  14.0  Elan Park  Elan Park        2  Blue Hen Rg  14.0  Front     False   \n",
      "4  15.0  Elan Park  Elan Park        2  Blue Hen Rg  15.0  Front     False   \n",
      "5  16.0  Elan Park  Elan Park        2  Blue Hen Rg  16.0  Front     False   \n",
      "6  17.0  Elan Park  Elan Park        2  Blue Hen Rg  17.0  Front     False   \n",
      "7  18.0  Elan Park  Elan Park        2  Blue Hen Rg  18.0  Front     False   \n",
      "8  19.0  Elan Park  Elan Park        2  Blue Hen Rg  19.0  Front     False   \n",
      "9  20.0  Elan Park  Elan Park        2  Blue Hen Rg  20.0  Front     False   \n",
      "\n",
      "                 COMMON               BOTANICAL  ... IMPROPMULC  IMPROPPRUN  \\\n",
      "0   arborvitae, eastern      Thuja occidentalis  ...      False       False   \n",
      "1   arborvitae, eastern      Thuja occidentalis  ...      False       False   \n",
      "2   pine, eastern white           Pinus strobus  ...      False       False   \n",
      "3  whitecedar, Atlantic  Chamaecyparis thyoides  ...      False       False   \n",
      "4  whitecedar, Atlantic  Chamaecyparis thyoides  ...      False       False   \n",
      "5   pine, eastern white           Pinus strobus  ...      False       False   \n",
      "6  whitecedar, Atlantic  Chamaecyparis thyoides  ...      False       False   \n",
      "7   pine, eastern white           Pinus strobus  ...      False       False   \n",
      "8   arborvitae, eastern      Thuja occidentalis  ...      False       False   \n",
      "9   arborvitae, eastern      Thuja occidentalis  ...      False       False   \n",
      "\n",
      "  NUTRIENTD   PEST GIRDLING STRESS  OHUTILITY  TOP_HEIGHT CROWN_M CROWN_DIE  \n",
      "0     False  False    False  False         No          40    0-5%      0-5%  \n",
      "1     False  False    False  False         No          41    0-5%      0-5%  \n",
      "2     False  False     True  False         No          54    0-5%     6-10%  \n",
      "3     False  False     True  False         No          57  11-15%    26-30%  \n",
      "4     False  False     True  False         No          55  11-15%    21-25%  \n",
      "5     False  False     True  False         No          55   6-10%    16-20%  \n",
      "6     False  False     True  False         No          55  21-25%    31-35%  \n",
      "7     False  False     True  False         No          55  11-15%    11-15%  \n",
      "8     False  False    False  False         No          56  11-15%    16-20%  \n",
      "9     False  False     True  False         No          55   6-10%    11-15%  \n",
      "\n",
      "[10 rows x 54 columns]\n"
     ]
    }
   ],
   "source": [
    "# Display the first few rows of the DataFrame here.\n",
    "print(df.head(10))\n",
    "import matplotlib.pyplot as plt\n"
   ]
  },
  {
   "cell_type": "code",
   "execution_count": 8,
   "metadata": {},
   "outputs": [
    {
     "name": "stdout",
     "output_type": "stream",
     "text": [
      "The DataFrame contains 54 columns.\n"
     ]
    }
   ],
   "source": [
    "# How many columns does the DataFrame contain?\n",
    "num_columns = df.shape[1]\n",
    "print(f\"The DataFrame contains {num_columns} columns.\") \n"
   ]
  },
  {
   "cell_type": "code",
   "execution_count": 9,
   "metadata": {},
   "outputs": [
    {
     "name": "stdout",
     "output_type": "stream",
     "text": [
      "The DataFrame contains the following attributes: ['ID', 'ON', 'AREA', 'ADDRESS', 'STREET', 'SITE', 'SIDE', 'ASSIGNED', 'COMMON', 'BOTANICAL', 'CULTIVAR', 'DBH', 'REMOVAL', 'STEMS', 'COND', 'MAINTPRIM', 'OBSERVE', 'INSPECT', 'LOCATION', 'NOTES', 'DATE', 'TIME', 'STAFF', 'XCOORD', 'YCOORD', 'FAILURE', 'LIKELIHOOD', 'TARGET', 'CONSEQ', 'RISK', 'UNIQUEID', 'EDITTIME', 'SPREAD', 'HEIGHT', 'CLEARANCE', 'DECAYCL', 'DECAYT', 'DECAYRF', 'DAMC', 'DAMT', 'DAMRF', 'CAVITYCL', 'CAVITYT', 'CAVITYRF', 'IMPROPMULC', 'IMPROPPRUN', 'NUTRIENTD', 'PEST', 'GIRDLING', 'STRESS', 'OHUTILITY', 'TOP_HEIGHT', 'CROWN_M', 'CROWN_DIE']\n"
     ]
    }
   ],
   "source": [
    "# What attributes (columns) does this DataFrame contain?\n",
    "attributes = df.columns.tolist()\n",
    "print(f\"The DataFrame contains the following attributes: {attributes}\") \n"
   ]
  },
  {
   "cell_type": "markdown",
   "metadata": {},
   "source": [
    "Upon reviewing the columns of the DataFrame, we see that there is already a column named ID that is well suited for an index column.  \n",
    "\n",
    "For the purposes of this lab, we are only going to need a few of the available attributes. The attributes we wish to keep are listed below:\n",
    "* ID\n",
    "* UNIQUEID\n",
    "* COMMON\n",
    "* BOTANICAL\n",
    "* COND\n",
    "* RISK\n",
    "* HEIGHT\n",
    "\n",
    "Let's provide the index_col and the usecols args when we invoke the read_csv method."
   ]
  },
  {
   "cell_type": "code",
   "execution_count": 10,
   "metadata": {},
   "outputs": [],
   "source": [
    "# Create the new DataFrame here using actual column names from df.\n",
    "new_df = df[['ID', 'UNIQUEID', 'COMMON', 'BOTANICAL', 'COND', 'RISK', 'HEIGHT']]\n",
    "\n",
    "\n"
   ]
  },
  {
   "cell_type": "code",
   "execution_count": 39,
   "metadata": {},
   "outputs": [
    {
     "name": "stdout",
     "output_type": "stream",
     "text": [
      "     ID           UNIQUEID                COMMON               BOTANICAL  \\\n",
      "0  11.0  LM 20150929141218   arborvitae, eastern      Thuja occidentalis   \n",
      "1  12.0  LM 20150929141418   arborvitae, eastern      Thuja occidentalis   \n",
      "2  13.0  LM 20150929141844   pine, eastern white           Pinus strobus   \n",
      "3  14.0  LM 20150929142424  whitecedar, Atlantic  Chamaecyparis thyoides   \n",
      "4  15.0  LM 20150929143018  whitecedar, Atlantic  Chamaecyparis thyoides   \n",
      "5  16.0  LM 20150929143352   pine, eastern white           Pinus strobus   \n",
      "6  17.0  LM 20150929143905  whitecedar, Atlantic  Chamaecyparis thyoides   \n",
      "7  18.0  LM 20150929144155   pine, eastern white           Pinus strobus   \n",
      "8  19.0  LM 20150929144438   arborvitae, eastern      Thuja occidentalis   \n",
      "9  20.0  LM 20150929144602   arborvitae, eastern      Thuja occidentalis   \n",
      "\n",
      "        COND RISK  HEIGHT  \n",
      "0       Good  Low      40  \n",
      "1  Very Good  Low      40  \n",
      "2       Good  Low      54  \n",
      "3       Fair  Low      56  \n",
      "4       Fair  Low      55  \n",
      "5       Fair  Low      55  \n",
      "6       Fair  Low      55  \n",
      "7       Fair  Low      55  \n",
      "8       Fair  Low      55  \n",
      "9       Fair  Low      55  \n"
     ]
    }
   ],
   "source": [
    "# Display the first few rows of the new DataFrame here.\n",
    "new_df.head()\n",
    "print(new_df.head(10))"
   ]
  },
  {
   "cell_type": "markdown",
   "metadata": {},
   "source": [
    "The data narritive specifies that 4,193 sites were inventoried. Use the DataFrame shape attribute to verify the number of rows."
   ]
  },
  {
   "cell_type": "code",
   "execution_count": 11,
   "metadata": {},
   "outputs": [
    {
     "name": "stdout",
     "output_type": "stream",
     "text": [
      "The new DataFrame contains 4193 rows.\n"
     ]
    }
   ],
   "source": [
    "# How many rows does your DataFrame contain.\n",
    "num_rows = new_df.shape[0]\n",
    "print(f\"The new DataFrame contains {num_rows} rows.\")\n"
   ]
  },
  {
   "cell_type": "markdown",
   "metadata": {},
   "source": [
    "Let's look at the distribution of data for the HEIGHT attribute."
   ]
  },
  {
   "cell_type": "code",
   "execution_count": 12,
   "metadata": {},
   "outputs": [
    {
     "name": "stdout",
     "output_type": "stream",
     "text": [
      "The minimum height in the new DataFrame is: 0\n"
     ]
    }
   ],
   "source": [
    "# What is the min height?\n",
    "min_height = new_df['HEIGHT'].min()\n",
    "print(f\"The minimum height in the new DataFrame is: {min_height}\")\n",
    "\n"
   ]
  },
  {
   "cell_type": "code",
   "execution_count": 13,
   "metadata": {},
   "outputs": [
    {
     "name": "stdout",
     "output_type": "stream",
     "text": [
      "The maximum height in the new DataFrame is: 140\n"
     ]
    }
   ],
   "source": [
    "# What is the max height?\n",
    "max_height = new_df['HEIGHT'].max()\n",
    "print(f\"The maximum height in the new DataFrame is: {max_height}\")\n"
   ]
  },
  {
   "cell_type": "code",
   "execution_count": 14,
   "metadata": {},
   "outputs": [
    {
     "name": "stdout",
     "output_type": "stream",
     "text": [
      "Summary statistics of the new DataFrame:\n",
      "                ID       HEIGHT\n",
      "count  4193.000000  4193.000000\n",
      "mean   2097.000000    55.311472\n",
      "std    1210.559168    36.293489\n",
      "min       1.000000     0.000000\n",
      "25%    1049.000000    23.000000\n",
      "50%    2097.000000    50.000000\n",
      "75%    3145.000000    86.000000\n",
      "max    4193.000000   140.000000\n"
     ]
    }
   ],
   "source": [
    "# How do we acquire count, mean, standard deviation, and distribution information from the DataFrame \n",
    "# by invoking a single method?\n",
    "summary_stats = new_df.describe()\n",
    "print(\"Summary statistics of the new DataFrame:\")\n",
    "print(summary_stats)\n",
    "\n"
   ]
  },
  {
   "cell_type": "markdown",
   "metadata": {},
   "source": [
    "# Plot a histogram using the HEIGHT attribute. \n",
    "\n",
    "resources:\n",
    "* [Magic commands](https://ipython.readthedocs.io/en/stable/interactive/magics.html)\n",
    "* [Pandas Series Hist](https://pandas.pydata.org/pandas-docs/stable/reference/api/pandas.Series.plot.hist.html#pandas.Series.plot.hist)"
   ]
  },
  {
   "cell_type": "code",
   "execution_count": 15,
   "metadata": {},
   "outputs": [],
   "source": [
    "# Apply magic command to display matplotlib images inline\n",
    "%matplotlib inline\n",
    "import matplotlib.pyplot as plt\n"
   ]
  },
  {
   "cell_type": "code",
   "execution_count": 16,
   "metadata": {},
   "outputs": [
    {
     "data": {
      "text/plain": [
       "Text(0.5, 0, 'Height')"
      ]
     },
     "execution_count": 16,
     "metadata": {},
     "output_type": "execute_result"
    },
    {
     "data": {
      "image/png": "[encoded data removed]",
      "text/plain": [
       "<Figure size 640x480 with 1 Axes>"
      ]
     },
     "metadata": {},
     "output_type": "display_data"
    }
   ],
   "source": [
    "# Create a histogram of the 'Height' column\n",
    "new_df['HEIGHT'].hist(bins=10, edgecolor='black')\n",
    "plt.title('Distribution of Tree Heights')\n",
    "plt.xlabel('Height')\n"
   ]
  },
  {
   "cell_type": "code",
   "execution_count": 17,
   "metadata": {},
   "outputs": [
    {
     "name": "stdout",
     "output_type": "stream",
     "text": [
      "Number of entries that are stumps: 100\n"
     ]
    }
   ],
   "source": [
    "# How many entries are stumps\n",
    "num_stumps = (new_df['COMMON'].str.upper() == 'STUMP').sum()\n",
    "print(f\"Number of entries that are stumps: {num_stumps}\")\n"
   ]
  },
  {
   "cell_type": "markdown",
   "metadata": {},
   "source": [
    "The data narrative specifies the following:\n",
    "\"A total of 4,193 sites were inventoried, including 4,087 trees, 100 stumps, and 6 vacant planting sites\"\n",
    "\n",
    "Earlier, we were able to validate the total number of entries in the DataFrame. Let's now dig in a bit deeper and validate the stumps and vacant planting sites."
   ]
  },
  {
   "cell_type": "code",
   "execution_count": 18,
   "metadata": {},
   "outputs": [
    {
     "name": "stdout",
     "output_type": "stream",
     "text": [
      "Number of entries that are vacant sites: 6\n"
     ]
    }
   ],
   "source": [
    "# How many entries are vacant sites\n",
    "num_vacant_sites = (new_df['COMMON'].str.upper() == 'VACANT SITE, LARGE').sum()\n",
    "print(f\"Number of entries that are vacant sites: {num_vacant_sites}\")\n",
    "\n"
   ]
  },
  {
   "cell_type": "code",
   "execution_count": 19,
   "metadata": {},
   "outputs": [
    {
     "name": "stdout",
     "output_type": "stream",
     "text": [
      "Total entries that are stumps or vacant sites: 106\n"
     ]
    }
   ],
   "source": [
    "#Do these numbers add up?\n",
    "total_entries = num_stumps + num_vacant_sites\n",
    "print(f\"Total entries that are stumps or vacant sites: {total_entries}\")\n"
   ]
  },
  {
   "cell_type": "markdown",
   "metadata": {},
   "source": [
    "# Plot a bar graph using the COND attribute.\n",
    "\n",
    "resources:\n",
    "* [Pandas Series Bar](https://pandas.pydata.org/pandas-docs/stable/reference/api/pandas.Series.plot.bar.html#pandas.Series.plot.bar)"
   ]
  },
  {
   "cell_type": "code",
   "execution_count": 20,
   "metadata": {},
   "outputs": [
    {
     "name": "stdout",
     "output_type": "stream",
     "text": [
      "Counts of each unique condition in the new DataFrame:\n",
      "COND\n",
      "Fair         1598\n",
      "Good         1168\n",
      "Poor          402\n",
      "Very Good     381\n",
      "Dead          218\n",
      "Excellent     163\n",
      "Very Poor      83\n",
      "Critical       74\n",
      "Name: count, dtype: int64\n"
     ]
    }
   ],
   "source": [
    "# How can we determine all of the possible values describing the condition of a tree and their associated counts?\n",
    "condition_counts = new_df['COND'].value_counts()\n",
    "print(\"Counts of each unique condition in the new DataFrame:\")\n",
    "print(condition_counts)"
   ]
  },
  {
   "cell_type": "code",
   "execution_count": 21,
   "metadata": {},
   "outputs": [
    {
     "name": "stdout",
     "output_type": "stream",
     "text": [
      "Reordered counts of each unique condition in the new DataFrame:\n",
      "COND\n",
      "Fair         1598\n",
      "Good         1168\n",
      "Poor          402\n",
      "Very Good     381\n",
      "Dead          218\n",
      "Excellent     163\n",
      "Very Poor      83\n",
      "Critical       74\n",
      "Name: ID, dtype: int64\n"
     ]
    }
   ],
   "source": [
    "# Were these already in the order you would want them to be in order for a graph to make sense? \n",
    "# If not, reorder  the Series.  \n",
    "df_cond=df.groupby('COND')[\"ID\"].count()\n",
    "df_cond = df_cond.sort_values(ascending=False)\n",
    "print(\"Reordered counts of each unique condition in the new DataFrame:\")\n",
    "print(df_cond)\n",
    "\n",
    "\n"
   ]
  },
  {
   "cell_type": "code",
   "execution_count": 33,
   "metadata": {},
   "outputs": [
    {
     "data": {
      "text/plain": [
       "<Figure size 1000x600 with 0 Axes>"
      ]
     },
     "metadata": {},
     "output_type": "display_data"
    },
    {
     "data": {
      "image/png": "[encoded data removed]",
      "text/plain": [
       "<Figure size 1000x600 with 1 Axes>"
      ]
     },
     "metadata": {},
     "output_type": "display_data"
    },
    {
     "name": "stdout",
     "output_type": "stream",
     "text": [
      "Condition Counts:\n",
      "  Fair: 1598\n",
      "  Good: 1168\n",
      "  Poor: 402\n",
      "  Very Good: 381\n",
      "  Dead: 218\n",
      "  Excellent: 163\n",
      "  Very Poor: 83\n",
      "  Critical: 74\n"
     ]
    },
    {
     "data": {
      "text/plain": [
       "Text(0.95, 0.95, 'Total Trees: 4087')"
      ]
     },
     "execution_count": 33,
     "metadata": {},
     "output_type": "execute_result"
    },
    {
     "data": {
      "text/plain": [
       "<Figure size 640x480 with 0 Axes>"
      ]
     },
     "metadata": {},
     "output_type": "display_data"
    }
   ],
   "source": [
    "# Plot the Series here\n",
    "from matplotlib import pyplot as plt\n",
    "\n",
    "\n",
    "plt.figure(figsize=(10, 6))\n",
    "\n",
    "# Get condition counts\n",
    "condition_counts = new_df['COND'].value_counts()\n",
    "\n",
    "# Define colors for each condition - using actual condition values\n",
    "# Since COND contains condition descriptions, we'll use a general color scheme\n",
    "colors = ['skyblue', 'lightgreen', 'orange', 'red', 'purple', 'yellow'][:len(condition_counts)]\n",
    "\n",
    "# Create the bar plot\n",
    "bars = plt.bar(condition_counts.index, condition_counts.values, color=colors, alpha=0.7, edgecolor='black')\n",
    "\n",
    "plt.title('Distribution of Tree Conditions')\n",
    "plt.xlabel('Condition')\n",
    "plt.ylabel('Count')\n",
    "plt.xticks(rotation=45, ha='right')\n",
    "plt.grid(axis='y', alpha=0.3)\n",
    "\n",
    "# Add count labels on top of bars\n",
    "for bar, count in zip(bars, condition_counts.values):\n",
    "    plt.text(bar.get_x() + bar.get_width()/2, bar.get_height() + max(condition_counts.values)*0.01, \n",
    "             str(count), ha='center', va='bottom', fontweight='bold')\n",
    "\n",
    "plt.tight_layout()\n",
    "# Reorder the condition categories from 'Excellent' to 'Dead'\n",
    "desired_order = ['Excellent', 'Very Good', 'Good', 'Fair', 'Poor', 'Very Poor', 'Critical', 'Dead']\n",
    "ordered_counts = condition_counts.reindex(desired_order).dropna()\n",
    "\n",
    "# Redraw the bar plot with the new order\n",
    "plt.clf()\n",
    "plt.figure(figsize=(10, 6))\n",
    "bars = plt.bar(ordered_counts.index, ordered_counts.values, color=colors[:len(ordered_counts)], alpha=0.7, edgecolor='black')\n",
    "plt.title('Distribution of Tree Conditions')\n",
    "plt.xlabel('Condition')\n",
    "plt.ylabel('Count')\n",
    "plt.xticks(rotation=45, ha='right')\n",
    "plt.grid(axis='y', alpha=0.3)\n",
    "for bar, count in zip(bars, ordered_counts.values):\n",
    "    plt.text(bar.get_x() + bar.get_width()/2, bar.get_height() + max(ordered_counts.values)*0.01, \n",
    "             str(int(count)), ha='center', va='bottom', fontweight='bold')\n",
    "plt.tight_layout()\n",
    "plt.show()\n",
    "\n",
    "# Print the condition counts for reference\n",
    "print(\"Condition Counts:\")\n",
    "for condition, count in condition_counts.items():\n",
    "    print(f\"  {condition}: {count}\")\n",
    "\n",
    "# Add a box showing the total number of trees\n",
    "total_trees = condition_counts.sum()\n",
    "plt.gcf().text(0.95, 0.95, f\"Total Trees: {total_trees}\", fontsize=12, bbox=dict(facecolor='white', edgecolor='black'), ha='right', va='top', transform=plt.gcf().transFigure)"
   ]
  },
  {
   "cell_type": "code",
   "execution_count": 23,
   "metadata": {},
   "outputs": [
    {
     "name": "stdout",
     "output_type": "stream",
     "text": [
      "Number of entries with missing values for the COND attribute: 106\n"
     ]
    }
   ],
   "source": [
    "# How many entries have missing values for the COND attribute? Why are these values missing?    \n",
    "num_missing_cond = new_df['COND'].isnull().sum()\n",
    "# The newark_tree_data.csv file shows 4176 N/A COND values because many rows correspond to stumps, vacant sites, or locations where no living tree is present.\n",
    "# For these entries, a tree condition (\"COND\") is not applicable, so the value is left as missing (N/A).\n",
    "print(f\"Number of entries with missing values for the COND attribute: {num_missing_cond}\")"
   ]
  },
  {
   "cell_type": "markdown",
   "metadata": {},
   "source": [
    "# Plot a pie chart using the RISK attribute."
   ]
  },
  {
   "cell_type": "markdown",
   "metadata": {},
   "source": [
    "resources:\n",
    "* [Pandas Series Pie](https://pandas.pydata.org/pandas-docs/stable/reference/api/pandas.Series.plot.pie.html#pandas.Series.plot.pie)\n",
    "* [matplotlib pie chart docs](https://matplotlib.org/api/pyplot_api.html#matplotlib.pyplot.pie)"
   ]
  },
  {
   "cell_type": "code",
   "execution_count": 24,
   "metadata": {},
   "outputs": [
    {
     "name": "stdout",
     "output_type": "stream",
     "text": [
      "Counts of each unique risk in the DataFrame:\n",
      "RISK\n",
      "Low         3833\n",
      "Moderate     241\n",
      "High          13\n",
      "Name: count, dtype: int64\n",
      "\n",
      "The 'Low' risk category represents trees that pose minimal risk to people or property.\n",
      " Most trees in this dataset fall into this category, indicating that the majority are \n",
      "considered safe and do not require immediate intervention.\n",
      "\n",
      "The 'Moderate' risk category includes trees that present some potential risk, but not \n",
      "as severe as those in the 'High' category. These trees may require monitoring or \n",
      "preventive maintenance to ensure safety.\n",
      "\n",
      "The 'High' risk category represents trees that pose the greatest potential danger to \n",
      "people or property. In this dataset, there are only 13 entries classified as 'High' risk, \n",
      "indicating that very few trees are considered to have a significant risk level. These \n",
      "trees may require immediate attention or remediation to reduce potential hazards.\n"
     ]
    }
   ],
   "source": [
    "# How can we determine all of the possible values describing the RISK associated with each tree\n",
    "# along with the corresponding row counts?\n",
    "risk_counts = df['RISK'].value_counts()\n",
    "print(\"Counts of each unique risk in the DataFrame:\")\n",
    "print(risk_counts)\n",
    "\n",
    "print(\"\\nThe 'Low' risk category represents trees that pose minimal risk to people or property.\\n Most trees in this dataset fall into this category, indicating that the majority are \\nconsidered safe and do not require immediate intervention.\")\n",
    "print(\"\\nThe 'Moderate' risk category includes trees that present some potential risk, but not \\nas severe as those in the 'High' category. These trees may require monitoring or \\npreventive maintenance to ensure safety.\")\n",
    "print(\"\\nThe 'High' risk category represents trees that pose the greatest potential danger to \\npeople or property. In this dataset, there are only 13 entries classified as 'High' risk, \\nindicating that very few trees are considered to have a significant risk level. These \\ntrees may require immediate attention or remediation to reduce potential hazards.\")\n",
    "\n"
   ]
  },
  {
   "cell_type": "code",
   "execution_count": 25,
   "metadata": {},
   "outputs": [],
   "source": [
    "# Create an array containing the colors green, yellow, and orange\n",
    "# When we create our pie chart, the colors should be associated with the attributes according to the specifications below:\n",
    "# Green -> Low\n",
    "# Yellow -> Moderate\n",
    "# Orange -> High\n",
    "colors = ['green', 'yellow', 'orange']\n"
   ]
  },
  {
   "cell_type": "code",
   "execution_count": null,
   "metadata": {},
   "outputs": [
    {
     "data": {
      "image/png": "[encoded data removed]",
      "text/plain": [
       "<Figure size 600x600 with 1 Axes>"
      ]
     },
     "metadata": {},
     "output_type": "display_data"
    }
   ],
   "source": [
    "# Plot the pie chart here\n",
    "plt.figure(figsize=(6, 6))\n",
    "risk_counts.plot(kind='pie', colors=colors, autopct='%1.1f%%', startangle=50)\n",
    "plt.title('Distribution of Tree Risk Levels')\n",
    "plt.ylabel('')  # Hide the y-label for better aesthetics\n",
    "plt.show()\n"
   ]
  },
  {
   "cell_type": "code",
   "execution_count": 31,
   "metadata": {},
   "outputs": [
    {
     "name": "stdout",
     "output_type": "stream",
     "text": [
      "Number of entries with missing values for the RISK attribute: 106\n",
      "Even though there are 74 trees in 'Critical' condition, only 13 are classified as 'High' risk because the 'RISK' attribute is determined by multiple factors, not just the tree's condition. Risk assessment typically considers the likelihood of failure, the potential target (people or property that could be affected), and the consequences of failure. Therefore, a tree in critical condition may still be considered 'Low' or 'Moderate' risk if it is located in an area where it poses little threat to people or property.\n"
     ]
    }
   ],
   "source": [
    "# How many entries have missing values for the RISK attribute? Why are these values missing?\n",
    "num_missing_risk = df['RISK'].isnull().sum()\n",
    "print(f\"Number of entries with missing values for the RISK attribute: {num_missing_risk}\")\n",
    "print(\n",
    "    \"Even though there are 74 trees in 'Critical' condition, only 13 are classified as 'High' risk because the 'RISK' attribute is determined by multiple factors, not just the tree's condition. Risk assessment typically considers the likelihood of failure, the potential target (people or property that could be affected), and the consequences of failure. Therefore, a tree in critical condition may still be considered 'Low' or 'Moderate' risk if it is located in an area where it poses little threat to people or property.\"\n",
    ")"
   ]
  },
  {
   "cell_type": "markdown",
   "metadata": {},
   "source": [
    "# Indexing"
   ]
  },
  {
   "cell_type": "code",
   "execution_count": 85,
   "metadata": {},
   "outputs": [
    {
     "name": "stdout",
     "output_type": "stream",
     "text": [
      "ID                            12.0\n",
      "ON                       Elan Park\n",
      "AREA                     Elan Park\n",
      "ADDRESS                          2\n",
      "STREET                 Blue Hen Rg\n",
      "SITE                          12.0\n",
      "SIDE                         Front\n",
      "ASSIGNED                     False\n",
      "COMMON         arborvitae, eastern\n",
      "BOTANICAL       Thuja occidentalis\n",
      "CULTIVAR                       NaN\n",
      "DBH                           11.0\n",
      "REMOVAL                        NaN\n",
      "STEMS                          1.0\n",
      "COND                     Very Good\n",
      "MAINTPRIM                      NaN\n",
      "OBSERVE                        NaN\n",
      "INSPECT                      False\n",
      "LOCATION                      Park\n",
      "NOTES                          NaN\n",
      "DATE                     9/29/2015\n",
      "TIME                    2:14:17 PM\n",
      "STAFF                           LM\n",
      "XCOORD                553196.93222\n",
      "YCOORD                611651.08843\n",
      "FAILURE                 Improbable\n",
      "LIKELIHOOD                Unlikely\n",
      "TARGET                      Medium\n",
      "CONSEQ                 Significant\n",
      "RISK                           Low\n",
      "UNIQUEID         LM 20150929141418\n",
      "EDITTIME      9/29/2015 2:14:18 PM\n",
      "SPREAD                          15\n",
      "HEIGHT                          40\n",
      "CLEARANCE                      NaN\n",
      "DECAYCL                      False\n",
      "DECAYT                       False\n",
      "DECAYRF                      False\n",
      "DAMC                         False\n",
      "DAMT                         False\n",
      "DAMRF                        False\n",
      "CAVITYCL                     False\n",
      "CAVITYT                      False\n",
      "CAVITYRF                     False\n",
      "IMPROPMULC                   False\n",
      "IMPROPPRUN                   False\n",
      "NUTRIENTD                    False\n",
      "PEST                         False\n",
      "GIRDLING                     False\n",
      "STRESS                       False\n",
      "OHUTILITY                       No\n",
      "TOP_HEIGHT                      41\n",
      "CROWN_M                       0-5%\n",
      "CROWN_DIE                     0-5%\n",
      "Name: 1, dtype: object\n"
     ]
    }
   ],
   "source": [
    "# Display row by position 1\n",
    "print(df.iloc[1])\n"
   ]
  },
  {
   "cell_type": "code",
   "execution_count": 32,
   "metadata": {},
   "outputs": [
    {
     "name": "stdout",
     "output_type": "stream",
     "text": [
      "ID                            12.0\n",
      "ON                       Elan Park\n",
      "AREA                     Elan Park\n",
      "ADDRESS                          2\n",
      "STREET                 Blue Hen Rg\n",
      "SITE                          12.0\n",
      "SIDE                         Front\n",
      "ASSIGNED                     False\n",
      "COMMON         arborvitae, eastern\n",
      "BOTANICAL       Thuja occidentalis\n",
      "CULTIVAR                       NaN\n",
      "DBH                           11.0\n",
      "REMOVAL                        NaN\n",
      "STEMS                          1.0\n",
      "COND                     Very Good\n",
      "MAINTPRIM                      NaN\n",
      "OBSERVE                        NaN\n",
      "INSPECT                      False\n",
      "LOCATION                      Park\n",
      "NOTES                          NaN\n",
      "DATE                     9/29/2015\n",
      "TIME                    2:14:17 PM\n",
      "STAFF                           LM\n",
      "XCOORD                553196.93222\n",
      "YCOORD                611651.08843\n",
      "FAILURE                 Improbable\n",
      "LIKELIHOOD                Unlikely\n",
      "TARGET                      Medium\n",
      "CONSEQ                 Significant\n",
      "RISK                           Low\n",
      "UNIQUEID         LM 20150929141418\n",
      "EDITTIME      9/29/2015 2:14:18 PM\n",
      "SPREAD                          15\n",
      "HEIGHT                          40\n",
      "CLEARANCE                      NaN\n",
      "DECAYCL                      False\n",
      "DECAYT                       False\n",
      "DECAYRF                      False\n",
      "DAMC                         False\n",
      "DAMT                         False\n",
      "DAMRF                        False\n",
      "CAVITYCL                     False\n",
      "CAVITYT                      False\n",
      "CAVITYRF                     False\n",
      "IMPROPMULC                   False\n",
      "IMPROPPRUN                   False\n",
      "NUTRIENTD                    False\n",
      "PEST                         False\n",
      "GIRDLING                     False\n",
      "STRESS                       False\n",
      "OHUTILITY                       No\n",
      "TOP_HEIGHT                      41\n",
      "CROWN_M                       0-5%\n",
      "CROWN_DIE                     0-5%\n",
      "Name: 1, dtype: object\n"
     ]
    }
   ],
   "source": [
    "# Display row by label 1\n",
    "print(df.loc[1])  # Assuming '1' is a valid index label\n",
    "\n"
   ]
  },
  {
   "cell_type": "code",
   "execution_count": null,
   "metadata": {},
   "outputs": [],
   "source": []
  }
 ],
 "metadata": {
  "kernelspec": {
   "display_name": "venv (3.11.13)",
   "language": "python",
   "name": "python3"
  },
  "language_info": {
   "codemirror_mode": {
    "name": "ipython",
    "version": 3
   },
   "file_extension": ".py",
   "mimetype": "text/x-python",
   "name": "python",
   "nbconvert_exporter": "python",
   "pygments_lexer": "ipython3",
   "version": "3.11.13"
  }
 },
 "nbformat": 4,
 "nbformat_minor": 4
}
