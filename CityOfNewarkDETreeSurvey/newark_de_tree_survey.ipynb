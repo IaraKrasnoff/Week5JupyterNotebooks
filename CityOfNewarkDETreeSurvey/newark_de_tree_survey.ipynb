{
 "cells": [
  {
   "cell_type": "code",
   "execution_count": 2,
   "metadata": {},
   "outputs": [],
   "source": [
    "import pandas as pd\n",
    "import numpy as np"
   ]
  },
  {
   "cell_type": "markdown",
   "metadata": {},
   "source": [
    "# Read a comma-separated values (csv) file into DataFrame.\n",
    "\n",
    "The data folder contains a file named \"newark_tree_data.csv\". Read this file into a dataframe.\n",
    "\n",
    "\n",
    "resources:\n",
    "* [Pandas read csv docs](https://pandas.pydata.org/pandas-docs/stable/reference/api/pandas.read_csv.html#pandas.read_csv)"
   ]
  },
  {
   "cell_type": "code",
   "execution_count": 12,
   "metadata": {},
   "outputs": [],
   "source": [
    "# Create DataFrame here.\n",
    "df = pd.read_csv('data/newark_tree_data.csv', \n",
    "                 index_col='ID',\n",
    "                 usecols=['ID', 'UNIQUEID', 'COMMON', 'BOTANICAL', 'COND', 'RISK', 'HEIGHT'])"
   ]
  },
  {
   "cell_type": "code",
   "execution_count": 13,
   "metadata": {},
   "outputs": [
    {
     "name": "stdout",
     "output_type": "stream",
     "text": [
      "   A  B   C\n",
      "0  1  5  10\n",
      "1  2  4  20\n",
      "2  3  3  30\n",
      "3  4  2  40\n",
      "4  5  1  50\n",
      "              A         B          C\n",
      "count  5.000000  5.000000   5.000000\n",
      "mean   3.000000  3.000000  30.000000\n",
      "std    1.581139  1.581139  15.811388\n",
      "min    1.000000  1.000000  10.000000\n",
      "25%    2.000000  2.000000  20.000000\n",
      "50%    3.000000  3.000000  30.000000\n",
      "75%    4.000000  4.000000  40.000000\n",
      "max    5.000000  5.000000  50.000000\n",
      "<class 'pandas.core.frame.DataFrame'>\n",
      "RangeIndex: 5 entries, 0 to 4\n",
      "Data columns (total 3 columns):\n",
      " #   Column  Non-Null Count  Dtype\n",
      "---  ------  --------------  -----\n",
      " 0   A       5 non-null      int64\n",
      " 1   B       5 non-null      int64\n",
      " 2   C       5 non-null      int64\n",
      "dtypes: int64(3)\n",
      "memory usage: 252.0 bytes\n",
      "None\n",
      "A    0\n",
      "B    0\n",
      "C    0\n",
      "dtype: int64\n",
      "     A    B    C\n",
      "A  1.0 -1.0  1.0\n",
      "B -1.0  1.0 -1.0\n",
      "C  1.0 -1.0  1.0\n",
      "3.0\n",
      "15\n",
      "50\n",
      "1\n",
      "1.5811388300841898\n",
      "30.0\n",
      "2.5\n",
      "0    1\n",
      "1    2\n",
      "2    3\n",
      "3    4\n",
      "4    5\n",
      "Name: B, dtype: int64\n",
      "40.0\n"
     ]
    }
   ],
   "source": [
    "# Display the first few rows of the DataFrame here.\n",
    "df.head()\n",
    "# Display the DataFrame\n",
    "print(df)       \n",
    "# Display the DataFrame\n",
    "print(df.describe())\n",
    "# Display the DataFrame\n",
    "print(df.info())\n",
    "# Display the DataFrame\n",
    "print(df.isnull().sum())\n",
    "# Display the DataFrame\n",
    "print(df.corr())\n",
    "# Display the DataFrame\n",
    "print(df['A'].mean())\n",
    "# Display the DataFrame\n",
    "print(df['B'].sum())\n",
    "# Display the DataFrame\n",
    "print(df['C'].max())\n",
    "# Display the DataFrame\n",
    "print(df['A'].min())\n",
    "# Display the DataFrame\n",
    "print(df['B'].std())\n",
    "# Display the DataFrame\n",
    "print(df['C'].median())\n",
    "# Display the DataFrame\n",
    "print(df['A'].var())\n",
    "# Display the DataFrame\n",
    "print(df['B'].mode())\n",
    "# Display the DataFrame\n",
    "print(df['C'].quantile(0.75))                              \n"
   ]
  },
  {
   "cell_type": "code",
   "execution_count": 4,
   "metadata": {},
   "outputs": [
    {
     "name": "stdout",
     "output_type": "stream",
     "text": [
      "The DataFrame contains 3 columns.\n",
      "The DataFrame contains the following attributes: ['A', 'B', 'C']\n",
      "Data types of each column:\n",
      "A    int64\n",
      "B    int64\n",
      "C    int64\n",
      "dtype: object\n",
      "The DataFrame contains 5 rows.\n",
      "The index of the DataFrame is: RangeIndex(start=0, stop=5, step=1)\n",
      "The shape of the DataFrame is: (5, 3)\n",
      "Memory usage of the DataFrame:\n",
      "Index    132\n",
      "A         40\n",
      "B         40\n",
      "C         40\n",
      "dtype: int64\n",
      "The size of the DataFrame is: 15\n",
      "Number of unique values in each column:\n",
      "A    5\n",
      "B    5\n",
      "C    5\n",
      "dtype: int64\n",
      "Number of missing values in each column:\n",
      "A    0\n",
      "B    0\n",
      "C    0\n",
      "dtype: int64\n",
      "Mean of each numeric column:\n",
      "A     3.0\n",
      "B     3.0\n",
      "C    30.0\n",
      "dtype: float64\n"
     ]
    }
   ],
   "source": [
    "# How many columns does the DataFrame contain?\n",
    "num_columns = df.shape[1]\n",
    "print(f\"The DataFrame contains {num_columns} columns.\") \n",
    "# What attributes (columns) does this DataFrame contain?\n",
    "attributes = df.columns.tolist()\n",
    "print(f\"The DataFrame contains the following attributes: {attributes}\") \n",
    "# What is the data type of each column?\n",
    "data_types = df.dtypes\n",
    "print(\"Data types of each column:\")\n",
    "print(data_types)   \n",
    "\n",
    "# How many rows does the DataFrame contain?\n",
    "num_rows = df.shape[0]\n",
    "print(f\"The DataFrame contains {num_rows} rows.\")\n",
    "# What is the index of the DataFrame?\n",
    "index = df.index\n",
    "print(f\"The index of the DataFrame is: {index}\")    \n",
    "# What is the shape of the DataFrame?\n",
    "shape = df.shape\n",
    "print(f\"The shape of the DataFrame is: {shape}\")    \n",
    "# What is the memory usage of the DataFrame?\n",
    "memory_usage = df.memory_usage(deep=True)\n",
    "print(\"Memory usage of the DataFrame:\")\n",
    "print(memory_usage)\n",
    "# What is the size of the DataFrame?\n",
    "size = df.size\n",
    "print(f\"The size of the DataFrame is: {size}\")  \n",
    "# What is the number of unique values in each column?\n",
    "unique_values = df.nunique()\n",
    "print(\"Number of unique values in each column:\")\n",
    "print(unique_values)    \n",
    "# What is the number of missing values in each column?\n",
    "missing_values = df.isnull().sum()\n",
    "print(\"Number of missing values in each column:\")\n",
    "print(missing_values)   \n",
    "# What is the mean of each numeric column?\n",
    "mean_values = df.mean()\n",
    "print(\"Mean of each numeric column:\")\n",
    "print(mean_values)   "
   ]
  },
  {
   "cell_type": "code",
   "execution_count": 13,
   "metadata": {},
   "outputs": [
    {
     "name": "stdout",
     "output_type": "stream",
     "text": [
      "The DataFrame contains the following attributes: ['COMMON', 'BOTANICAL', 'COND', 'RISK', 'UNIQUEID', 'HEIGHT']\n",
      "Data types of each column:\n",
      "COMMON       object\n",
      "BOTANICAL    object\n",
      "COND         object\n",
      "RISK         object\n",
      "UNIQUEID     object\n",
      "HEIGHT        int64\n",
      "dtype: object\n"
     ]
    }
   ],
   "source": [
    "# What attributes (columns) does this DataFrame contain?\n",
    "attributes = df.columns.tolist()\n",
    "print(f\"The DataFrame contains the following attributes: {attributes}\") \n",
    "\n",
    "# What is the data type of each column?\n",
    "data_types = df.dtypes\n",
    "print(\"Data types of each column:\")\n",
    "print(data_types)   "
   ]
  },
  {
   "cell_type": "markdown",
   "metadata": {},
   "source": [
    "Upon reviewing the columns of the DataFrame, we see that there is already a column named ID that is well suited for an index column.  \n",
    "\n",
    "For the purposes of this lab, we are only going to need a few of the available attributes. The attributes we wish to keep are listed below:\n",
    "* ID\n",
    "* UNIQUEID\n",
    "* COMMON\n",
    "* BOTANICAL\n",
    "* COND\n",
    "* RISK\n",
    "* HEIGHT\n",
    "\n",
    "Let's provide the index_col and the usecols args when we invoke the read_csv method."
   ]
  },
  {
   "cell_type": "code",
   "execution_count": 16,
   "metadata": {},
   "outputs": [
    {
     "data": {
      "text/html": [
       "<div>\n",
       "<style scoped>\n",
       "    .dataframe tbody tr th:only-of-type {\n",
       "        vertical-align: middle;\n",
       "    }\n",
       "\n",
       "    .dataframe tbody tr th {\n",
       "        vertical-align: top;\n",
       "    }\n",
       "\n",
       "    .dataframe thead th {\n",
       "        text-align: right;\n",
       "    }\n",
       "</style>\n",
       "<table border=\"1\" class=\"dataframe\">\n",
       "  <thead>\n",
       "    <tr style=\"text-align: right;\">\n",
       "      <th></th>\n",
       "      <th>Species</th>\n",
       "      <th>Height</th>\n",
       "      <th>Condition</th>\n",
       "    </tr>\n",
       "    <tr>\n",
       "      <th>ID</th>\n",
       "      <th></th>\n",
       "      <th></th>\n",
       "      <th></th>\n",
       "    </tr>\n",
       "  </thead>\n",
       "  <tbody>\n",
       "    <tr>\n",
       "      <th>11.0</th>\n",
       "      <td>arborvitae, eastern</td>\n",
       "      <td>40</td>\n",
       "      <td>Good</td>\n",
       "    </tr>\n",
       "    <tr>\n",
       "      <th>12.0</th>\n",
       "      <td>arborvitae, eastern</td>\n",
       "      <td>40</td>\n",
       "      <td>Very Good</td>\n",
       "    </tr>\n",
       "    <tr>\n",
       "      <th>13.0</th>\n",
       "      <td>pine, eastern white</td>\n",
       "      <td>54</td>\n",
       "      <td>Good</td>\n",
       "    </tr>\n",
       "    <tr>\n",
       "      <th>14.0</th>\n",
       "      <td>whitecedar, Atlantic</td>\n",
       "      <td>56</td>\n",
       "      <td>Fair</td>\n",
       "    </tr>\n",
       "    <tr>\n",
       "      <th>15.0</th>\n",
       "      <td>whitecedar, Atlantic</td>\n",
       "      <td>55</td>\n",
       "      <td>Fair</td>\n",
       "    </tr>\n",
       "  </tbody>\n",
       "</table>\n",
       "</div>"
      ],
      "text/plain": [
       "                   Species  Height  Condition\n",
       "ID                                           \n",
       "11.0   arborvitae, eastern      40       Good\n",
       "12.0   arborvitae, eastern      40  Very Good\n",
       "13.0   pine, eastern white      54       Good\n",
       "14.0  whitecedar, Atlantic      56       Fair\n",
       "15.0  whitecedar, Atlantic      55       Fair"
      ]
     },
     "execution_count": 16,
     "metadata": {},
     "output_type": "execute_result"
    }
   ],
   "source": [
    "# Create the new DataFrame here using actual column names from df.\n",
    "new_df = df[['COMMON', 'HEIGHT']]\n",
    "new_df.head()\n",
    "# Display the new DataFrame here.\n",
    "new_df.head()\n",
    "# Display the first few rows of the new DataFrame here.\n",
    "new_df.head()\n",
    "# If you want to rename columns or create a custom DataFrame:\n",
    "new_df = pd.DataFrame({\n",
    "    'Species': df['COMMON'],\n",
    "    'Height': df['HEIGHT'],\n",
    "    'Condition': df['COND']\n",
    "})\n",
    "new_df.head()\n",
    "\n"
   ]
  },
  {
   "cell_type": "code",
   "execution_count": 18,
   "metadata": {},
   "outputs": [
    {
     "data": {
      "text/html": [
       "<div>\n",
       "<style scoped>\n",
       "    .dataframe tbody tr th:only-of-type {\n",
       "        vertical-align: middle;\n",
       "    }\n",
       "\n",
       "    .dataframe tbody tr th {\n",
       "        vertical-align: top;\n",
       "    }\n",
       "\n",
       "    .dataframe thead th {\n",
       "        text-align: right;\n",
       "    }\n",
       "</style>\n",
       "<table border=\"1\" class=\"dataframe\">\n",
       "  <thead>\n",
       "    <tr style=\"text-align: right;\">\n",
       "      <th></th>\n",
       "      <th>Species</th>\n",
       "      <th>Height</th>\n",
       "      <th>Condition</th>\n",
       "    </tr>\n",
       "    <tr>\n",
       "      <th>ID</th>\n",
       "      <th></th>\n",
       "      <th></th>\n",
       "      <th></th>\n",
       "    </tr>\n",
       "  </thead>\n",
       "  <tbody>\n",
       "    <tr>\n",
       "      <th>11.0</th>\n",
       "      <td>arborvitae, eastern</td>\n",
       "      <td>40</td>\n",
       "      <td>Good</td>\n",
       "    </tr>\n",
       "    <tr>\n",
       "      <th>12.0</th>\n",
       "      <td>arborvitae, eastern</td>\n",
       "      <td>40</td>\n",
       "      <td>Very Good</td>\n",
       "    </tr>\n",
       "    <tr>\n",
       "      <th>13.0</th>\n",
       "      <td>pine, eastern white</td>\n",
       "      <td>54</td>\n",
       "      <td>Good</td>\n",
       "    </tr>\n",
       "    <tr>\n",
       "      <th>14.0</th>\n",
       "      <td>whitecedar, Atlantic</td>\n",
       "      <td>56</td>\n",
       "      <td>Fair</td>\n",
       "    </tr>\n",
       "    <tr>\n",
       "      <th>15.0</th>\n",
       "      <td>whitecedar, Atlantic</td>\n",
       "      <td>55</td>\n",
       "      <td>Fair</td>\n",
       "    </tr>\n",
       "  </tbody>\n",
       "</table>\n",
       "</div>"
      ],
      "text/plain": [
       "                   Species  Height  Condition\n",
       "ID                                           \n",
       "11.0   arborvitae, eastern      40       Good\n",
       "12.0   arborvitae, eastern      40  Very Good\n",
       "13.0   pine, eastern white      54       Good\n",
       "14.0  whitecedar, Atlantic      56       Fair\n",
       "15.0  whitecedar, Atlantic      55       Fair"
      ]
     },
     "execution_count": 18,
     "metadata": {},
     "output_type": "execute_result"
    }
   ],
   "source": [
    "# Display the first few rows of the new DataFrame here.\n",
    "new_df.head()\n",
    "new_df.head()\n",
    "# Display the new DataFrame here.\n",
    "new_df.head()\n"
   ]
  },
  {
   "cell_type": "markdown",
   "metadata": {},
   "source": [
    "The data narritive specifies that 4,193 sites were inventoried. Use the DataFrame shape attribute to verify the number of rows."
   ]
  },
  {
   "cell_type": "code",
   "execution_count": 21,
   "metadata": {},
   "outputs": [
    {
     "name": "stdout",
     "output_type": "stream",
     "text": [
      "The new DataFrame contains 4193 rows.\n",
      "The index of the new DataFrame is: Index([  11.0,   12.0,   13.0,   14.0,   15.0,   16.0,   17.0,   18.0,   19.0,\n",
      "         20.0,\n",
      "       ...\n",
      "       4184.0, 4185.0, 4186.0, 4187.0, 4188.0, 4189.0, 4190.0, 4191.0, 4192.0,\n",
      "       4193.0],\n",
      "      dtype='float64', name='ID', length=4193)\n",
      "The shape of the new DataFrame is: (4193, 3)\n",
      "Memory usage of the new DataFrame:\n",
      "Index         33544\n",
      "Species      294062\n",
      "Height        33544\n",
      "Condition    256130\n",
      "dtype: int64\n",
      "The size of the new DataFrame is: 12579\n",
      "Number of unique values in each column of the new DataFrame:\n",
      "Species      159\n",
      "Height       136\n",
      "Condition      8\n",
      "dtype: int64\n",
      "Number of missing values in each column of the new DataFrame:\n",
      "Species        0\n",
      "Height         0\n",
      "Condition    106\n",
      "dtype: int64\n",
      "Mean of each numeric column in the new DataFrame:\n",
      "Height    55.311472\n",
      "dtype: float64\n"
     ]
    }
   ],
   "source": [
    "# How many rows does your DataFrame contain.\n",
    "num_rows = new_df.shape[0]\n",
    "print(f\"The new DataFrame contains {num_rows} rows.\")\n",
    "# What is the index of the new DataFrame?\n",
    "index = new_df.index\n",
    "print(f\"The index of the new DataFrame is: {index}\")\n",
    "# What is the shape of the new DataFrame?\n",
    "shape = new_df.shape\n",
    "print(f\"The shape of the new DataFrame is: {shape}\")\n",
    "# What is the memory usage of the new DataFrame?\n",
    "memory_usage = new_df.memory_usage(deep=True)\n",
    "print(\"Memory usage of the new DataFrame:\")\n",
    "print(memory_usage)\n",
    "# What is the size of the new DataFrame?\n",
    "size = new_df.size\n",
    "print(f\"The size of the new DataFrame is: {size}\")\n",
    "# What is the number of unique values in each column of the new DataFrame?\n",
    "unique_values = new_df.nunique()\n",
    "print(\"Number of unique values in each column of the new DataFrame:\")\n",
    "print(unique_values)\n",
    "# What is the number of missing values in each column of the new DataFrame?\n",
    "missing_values = new_df.isnull().sum()\n",
    "print(\"Number of missing values in each column of the new DataFrame:\")\n",
    "print(missing_values)\n",
    "# What is the mean of each numeric column in the new DataFrame?\n",
    "mean_values = new_df.mean(numeric_only=True)\n",
    "print(\"Mean of each numeric column in the new DataFrame:\")\n",
    "print(mean_values)"
   ]
  },
  {
   "cell_type": "markdown",
   "metadata": {},
   "source": [
    "Let's look at the distribution of data for the HEIGHT attribute."
   ]
  },
  {
   "cell_type": "code",
   "execution_count": 22,
   "metadata": {},
   "outputs": [
    {
     "name": "stdout",
     "output_type": "stream",
     "text": [
      "The minimum height in the new DataFrame is: 0\n",
      "The maximum height in the new DataFrame is: 140\n",
      "The mean height in the new DataFrame is: 55.31147150011925\n"
     ]
    }
   ],
   "source": [
    "# What is the min height?\n",
    "min_height = new_df['Height'].min()\n",
    "print(f\"The minimum height in the new DataFrame is: {min_height}\")\n",
    "\n",
    "# What is the max height?\n",
    "max_height = new_df['Height'].max()\n",
    "print(f\"The maximum height in the new DataFrame is: {max_height}\")\n",
    "# What is the mean height?\n",
    "mean_height = new_df['Height'].mean()\n",
    "print(f\"The mean height in the new DataFrame is: {mean_height}\")\n",
    "\n"
   ]
  },
  {
   "cell_type": "code",
   "execution_count": 23,
   "metadata": {},
   "outputs": [
    {
     "name": "stdout",
     "output_type": "stream",
     "text": [
      "The maximum height in the new DataFrame is: 140\n",
      "The mean height in the new DataFrame is: 55.31147150011925\n",
      "The minimum height in the new DataFrame is: 0\n"
     ]
    }
   ],
   "source": [
    "# What is the max height?\n",
    "max_height = new_df['Height'].max()\n",
    "print(f\"The maximum height in the new DataFrame is: {max_height}\")\n",
    "# What is the mean height?\n",
    "mean_height = new_df['Height'].mean()\n",
    "print(f\"The mean height in the new DataFrame is: {mean_height}\")\n",
    "# What is the min height?\n",
    "min_height = new_df['Height'].min()\n",
    "print(f\"The minimum height in the new DataFrame is: {min_height}\")\n",
    "\n"
   ]
  },
  {
   "cell_type": "code",
   "execution_count": 24,
   "metadata": {},
   "outputs": [
    {
     "name": "stdout",
     "output_type": "stream",
     "text": [
      "Summary statistics of the new DataFrame:\n",
      "            Height\n",
      "count  4193.000000\n",
      "mean     55.311472\n",
      "std      36.293489\n",
      "min       0.000000\n",
      "25%      23.000000\n",
      "50%      50.000000\n",
      "75%      86.000000\n",
      "max     140.000000\n",
      "Summary statistics of the new DataFrame:\n",
      "            Height\n",
      "count  4193.000000\n",
      "mean     55.311472\n",
      "std      36.293489\n",
      "min       0.000000\n",
      "25%      23.000000\n",
      "50%      50.000000\n",
      "75%      86.000000\n",
      "max     140.000000\n",
      "Summary statistics of the new DataFrame:\n",
      "            Height\n",
      "count  4193.000000\n",
      "mean     55.311472\n",
      "std      36.293489\n",
      "min       0.000000\n",
      "25%      23.000000\n",
      "50%      50.000000\n",
      "75%      86.000000\n",
      "max     140.000000\n"
     ]
    }
   ],
   "source": [
    "# How do we acquire count, mean, standard deviation, and distribution information from the DataFrame \n",
    "# by invoking a single method?\n",
    "summary_stats = new_df.describe()\n",
    "print(\"Summary statistics of the new DataFrame:\")\n",
    "print(summary_stats)\n",
    "# Display the summary statistics of the new DataFrame\n",
    "summary_stats = new_df.describe()\n",
    "print(\"Summary statistics of the new DataFrame:\")\n",
    "print(summary_stats)\n",
    "# Display the summary statistics of the new DataFrame\n",
    "summary_stats = new_df.describe()\n",
    "print(\"Summary statistics of the new DataFrame:\")\n",
    "print(summary_stats)\n",
    "\n"
   ]
  },
  {
   "cell_type": "markdown",
   "metadata": {},
   "source": [
    "# Plot a histogram using the HEIGHT attribute. \n",
    "\n",
    "resources:\n",
    "* [Magic commands](https://ipython.readthedocs.io/en/stable/interactive/magics.html)\n",
    "* [Pandas Series Hist](https://pandas.pydata.org/pandas-docs/stable/reference/api/pandas.Series.plot.hist.html#pandas.Series.plot.hist)"
   ]
  },
  {
   "cell_type": "code",
   "execution_count": 26,
   "metadata": {},
   "outputs": [
    {
     "name": "stdout",
     "output_type": "stream",
     "text": [
      "Requirement already satisfied: matplotlib in /Users/iara/venv/lib/python3.11/site-packages (3.10.5)\n",
      "Requirement already satisfied: contourpy>=1.0.1 in /Users/iara/venv/lib/python3.11/site-packages (from matplotlib) (1.3.3)\n",
      "Requirement already satisfied: cycler>=0.10 in /Users/iara/venv/lib/python3.11/site-packages (from matplotlib) (0.12.1)\n",
      "Requirement already satisfied: fonttools>=4.22.0 in /Users/iara/venv/lib/python3.11/site-packages (from matplotlib) (4.59.0)\n",
      "Requirement already satisfied: kiwisolver>=1.3.1 in /Users/iara/venv/lib/python3.11/site-packages (from matplotlib) (1.4.8)\n",
      "Requirement already satisfied: numpy>=1.23 in /Users/iara/venv/lib/python3.11/site-packages (from matplotlib) (2.3.1)\n",
      "Requirement already satisfied: packaging>=20.0 in /Users/iara/venv/lib/python3.11/site-packages (from matplotlib) (25.0)\n",
      "Requirement already satisfied: pillow>=8 in /Users/iara/venv/lib/python3.11/site-packages (from matplotlib) (11.3.0)\n",
      "Requirement already satisfied: pyparsing>=2.3.1 in /Users/iara/venv/lib/python3.11/site-packages (from matplotlib) (3.2.3)\n",
      "Requirement already satisfied: python-dateutil>=2.7 in /Users/iara/venv/lib/python3.11/site-packages (from matplotlib) (2.9.0.post0)\n",
      "Requirement already satisfied: six>=1.5 in /Users/iara/venv/lib/python3.11/site-packages (from python-dateutil>=2.7->matplotlib) (1.17.0)\n",
      "Note: you may need to restart the kernel to use updated packages.\n",
      "Note: you may need to restart the kernel to use updated packages.\n"
     ]
    },
    {
     "name": "stderr",
     "output_type": "stream",
     "text": [
      "Matplotlib is building the font cache; this may take a moment.\n"
     ]
    },
    {
     "data": {
      "image/png": "[encoded data removed]",
      "text/plain": [
       "<Figure size 1000x600 with 1 Axes>"
      ]
     },
     "metadata": {},
     "output_type": "display_data"
    }
   ],
   "source": [
    "%pip install matplotlib\n",
    "# Apply magic command to display matplotlib images inline\n",
    "%matplotlib inline\n",
    "import matplotlib.pyplot as plt\n",
    "# Create a histogram of the 'Height' column\n",
    "plt.figure(figsize=(10, 6))\n",
    "plt.hist(new_df['Height'], bins=30, color='blue', alpha=0.7)\n",
    "plt.title('Distribution of Tree Heights')\n",
    "plt.xlabel('Height')\n",
    "plt.ylabel('Frequency')\n",
    "plt.grid(axis='y', alpha=0.75)\n",
    "plt.show()"
   ]
  },
  {
   "cell_type": "code",
   "execution_count": 28,
   "metadata": {},
   "outputs": [
    {
     "data": {
      "image/png": "[encoded data removed]",
      "text/plain": [
       "<Figure size 1000x600 with 1 Axes>"
      ]
     },
     "metadata": {},
     "output_type": "display_data"
    },
    {
     "name": "stdout",
     "output_type": "stream",
     "text": [
      "The DataFrame contains the following attributes: ['COMMON', 'BOTANICAL', 'COND', 'RISK', 'UNIQUEID', 'HEIGHT']\n",
      "Data types of each column:\n",
      "COMMON       object\n",
      "BOTANICAL    object\n",
      "COND         object\n",
      "RISK         object\n",
      "UNIQUEID     object\n",
      "HEIGHT        int64\n",
      "dtype: object\n"
     ]
    }
   ],
   "source": [
    "# Create a histogram using the HEIGHT attribute here\n",
    "plt.figure(figsize=(10, 6))\n",
    "plt.hist(new_df['Height'], bins=30, color='blue', alpha=0.7)\n",
    "plt.title('Distribution of Tree Heights')\n",
    "plt.xlabel('Height')\n",
    "plt.ylabel('Frequency')\n",
    "plt.grid(axis='y', alpha=0.75)\n",
    "plt.show()\n",
    "\n",
    "#!/usr/bin/env python3\n",
    "import pandas as pd\n",
    "import numpy as np\n",
    "# Create DataFrame here.\n",
    "df = pd.read_csv('data/newark_tree_data.csv', \n",
    "                 index_col='ID',\n",
    "                 usecols=['ID', 'UNIQUEID', 'COMMON', 'BOTANICAL', 'COND', 'RISK', 'HEIGHT'])\n",
    "# What attributes (columns) does this DataFrame contain?\n",
    "attributes = df.columns.tolist()\n",
    "print(f\"The DataFrame contains the following attributes: {attributes}\")\n",
    "# What is the data type of each column?\n",
    "data_types = df.dtypes\n",
    "print(\"Data types of each column:\")\n",
    "print(data_types)\n",
    "\n"
   ]
  },
  {
   "cell_type": "markdown",
   "metadata": {},
   "source": [
    "The data narrative specifies the following:\n",
    "\"A total of 4,193 sites were inventoried, including 4,087 trees, 100 stumps, and 6 vacant planting sites\"\n",
    "\n",
    "Earlier, we were able to validate the total number of entries in the DataFrame. Let's now dig in a bit deeper and validate the stumps and vacant planting sites."
   ]
  },
  {
   "cell_type": "code",
   "execution_count": 29,
   "metadata": {},
   "outputs": [
    {
     "name": "stdout",
     "output_type": "stream",
     "text": [
      "Number of entries that are stumps: 0\n",
      "Number of entries that are not stumps: 4193\n",
      "Number of entries that are not stumps: 4193\n",
      "Number of entries that are stumps: 0\n",
      "Number of entries that are not stumps: 4193\n",
      "The DataFrame contains the following attributes: ['COMMON', 'BOTANICAL', 'COND', 'RISK', 'UNIQUEID', 'HEIGHT']\n",
      "Data types of each column:\n",
      "COMMON       object\n",
      "BOTANICAL    object\n",
      "COND         object\n",
      "RISK         object\n",
      "UNIQUEID     object\n",
      "HEIGHT        int64\n",
      "dtype: object\n"
     ]
    }
   ],
   "source": [
    "# How many entries are stumps\n",
    "num_stumps = (new_df['Species'] == 'STUMP').sum()\n",
    "print(f\"Number of entries that are stumps: {num_stumps}\")\n",
    "# How many entries are not stumps\n",
    "num_not_stumps = (new_df['Species'] != 'STUMP').sum()\n",
    "print(f\"Number of entries that are not stumps: {num_not_stumps}\")\n",
    "num_not_stumps = (new_df['Species'] != 'STUMP').sum()\n",
    "print(f\"Number of entries that are not stumps: {num_not_stumps}\")\n",
    "# How many entries are stumps\n",
    "num_stumps = (new_df['Species'] == 'STUMP').sum()\n",
    "print(f\"Number of entries that are stumps: {num_stumps}\")\n",
    "# How many entries are not stumps\n",
    "num_not_stumps = (new_df['Species'] != 'STUMP').sum()\n",
    "print(f\"Number of entries that are not stumps: {num_not_stumps}\")\n",
    "#!/usr/bin/env python3\n",
    "import pandas as pd\n",
    "import numpy as np\n",
    "# Create DataFrame here.\n",
    "df = pd.read_csv('data/newark_tree_data.csv', \n",
    "                 index_col='ID',\n",
    "                 usecols=['ID', 'UNIQUEID', 'COMMON', 'BOTANICAL', 'COND', 'RISK', 'HEIGHT'])\n",
    "# What attributes (columns) does this DataFrame contain?\n",
    "attributes = df.columns.tolist()\n",
    "print(f\"The DataFrame contains the following attributes: {attributes}\")\n",
    "# What is the data type of each column?\n",
    "data_types = df.dtypes\n",
    "print(\"Data types of each column:\")\n",
    "print(data_types)   \n",
    "\n"
   ]
  },
  {
   "cell_type": "code",
   "execution_count": 30,
   "metadata": {},
   "outputs": [
    {
     "name": "stdout",
     "output_type": "stream",
     "text": [
      "Number of entries that are vacant sites: 0\n"
     ]
    }
   ],
   "source": [
    "# How many entries are vacant sites\n",
    "num_vacant_sites = (new_df['Species'] == 'VACANT').sum()\n",
    "print(f\"Number of entries that are vacant sites: {num_vacant_sites}\")\n",
    "\n"
   ]
  },
  {
   "cell_type": "code",
   "execution_count": 31,
   "metadata": {},
   "outputs": [
    {
     "name": "stdout",
     "output_type": "stream",
     "text": [
      "Total number of entries in the new DataFrame: 4193\n",
      "Sum of stumps, not stumps, and vacant sites: 4193\n",
      "The numbers add up correctly.\n",
      "The DataFrame contains the following attributes: ['COMMON', 'BOTANICAL', 'COND', 'RISK', 'UNIQUEID', 'HEIGHT']\n",
      "Data types of each column:\n",
      "COMMON       object\n",
      "BOTANICAL    object\n",
      "COND         object\n",
      "RISK         object\n",
      "UNIQUEID     object\n",
      "HEIGHT        int64\n",
      "dtype: object\n"
     ]
    }
   ],
   "source": [
    "# Do these number add up?\n",
    "total_entries = new_df.shape[0]\n",
    "print(f\"Total number of entries in the new DataFrame: {total_entries}\")\n",
    "sum_of_conditions = num_stumps + num_not_stumps + num_vacant_sites\n",
    "print(f\"Sum of stumps, not stumps, and vacant sites: {sum_of_conditions}\")\n",
    "if total_entries == sum_of_conditions:\n",
    "    print(\"The numbers add up correctly.\")\n",
    "else:\n",
    "    print(\"There is a discrepancy in the numbers.\")\n",
    "#!/usr/bin/env python3\n",
    "import pandas as pd\n",
    "import numpy as np\n",
    "# Create DataFrame here.\n",
    "df = pd.read_csv('data/newark_tree_data.csv', \n",
    "                 index_col='ID',\n",
    "                 usecols=['ID', 'UNIQUEID', 'COMMON', 'BOTANICAL', 'COND', 'RISK', 'HEIGHT'])\n",
    "# What attributes (columns) does this DataFrame contain?\n",
    "attributes = df.columns.tolist()\n",
    "print(f\"The DataFrame contains the following attributes: {attributes}\")\n",
    "# What is the data type of each column?\n",
    "data_types = df.dtypes\n",
    "print(\"Data types of each column:\")\n",
    "print(data_types)\n"
   ]
  },
  {
   "cell_type": "markdown",
   "metadata": {},
   "source": [
    "# Plot a bar graph using the COND attribute.\n",
    "\n",
    "resources:\n",
    "* [Pandas Series Bar](https://pandas.pydata.org/pandas-docs/stable/reference/api/pandas.Series.plot.bar.html#pandas.Series.plot.bar)"
   ]
  },
  {
   "cell_type": "code",
   "execution_count": 32,
   "metadata": {},
   "outputs": [
    {
     "name": "stdout",
     "output_type": "stream",
     "text": [
      "Counts of each unique condition in the new DataFrame:\n",
      "Condition\n",
      "Fair         1598\n",
      "Good         1168\n",
      "Poor          402\n",
      "Very Good     381\n",
      "Dead          218\n",
      "Excellent     163\n",
      "Very Poor      83\n",
      "Critical       74\n",
      "Name: count, dtype: int64\n",
      "Counts of each unique condition in the new DataFrame:\n",
      "Condition\n",
      "Fair         1598\n",
      "Good         1168\n",
      "Poor          402\n",
      "Very Good     381\n",
      "Dead          218\n",
      "Excellent     163\n",
      "Very Poor      83\n",
      "Critical       74\n",
      "Name: count, dtype: int64\n",
      "The DataFrame contains the following attributes: ['COMMON', 'BOTANICAL', 'COND', 'RISK', 'UNIQUEID', 'HEIGHT']\n",
      "Data types of each column:\n",
      "COMMON       object\n",
      "BOTANICAL    object\n",
      "COND         object\n",
      "RISK         object\n",
      "UNIQUEID     object\n",
      "HEIGHT        int64\n",
      "dtype: object\n"
     ]
    }
   ],
   "source": [
    "# How can we determine all of the possible values describing the condition of a tree and their associated counts?\n",
    "condition_counts = new_df['Condition'].value_counts()\n",
    "print(\"Counts of each unique condition in the new DataFrame:\")\n",
    "print(condition_counts)\n",
    "# How can we determine all of the possible values describing the condition of a tree and their associated counts?\n",
    "condition_counts = new_df['Condition'].value_counts()\n",
    "print(\"Counts of each unique condition in the new DataFrame:\")\n",
    "print(condition_counts)\n",
    "#!/usr/bin/env python3\n",
    "import pandas as pd\n",
    "import numpy as np\n",
    "# Create DataFrame here.\n",
    "df = pd.read_csv('data/newark_tree_data.csv', \n",
    "                 index_col='ID',\n",
    "                 usecols=['ID', 'UNIQUEID', 'COMMON', 'BOTANICAL', 'COND', 'RISK', 'HEIGHT'])\n",
    "# What attributes (columns) does this DataFrame contain?\n",
    "attributes = df.columns.tolist()\n",
    "print(f\"The DataFrame contains the following attributes: {attributes}\")\n",
    "# What is the data type of each column?\n",
    "data_types = df.dtypes\n",
    "print(\"Data types of each column:\")\n",
    "print(data_types)   "
   ]
  },
  {
   "cell_type": "code",
   "execution_count": 38,
   "metadata": {},
   "outputs": [
    {
     "name": "stdout",
     "output_type": "stream",
     "text": [
      "Reordered counts of each unique condition in the new DataFrame:\n",
      "Condition\n",
      "Good    1168\n",
      "Fair    1598\n",
      "Poor     402\n",
      "Name: count, dtype: int64\n",
      "The DataFrame contains the following attributes: ['COMMON', 'BOTANICAL', 'COND', 'RISK', 'UNIQUEID', 'HEIGHT']\n",
      "Data types of each column:\n",
      "COMMON       object\n",
      "BOTANICAL    object\n",
      "COND         object\n",
      "RISK         object\n",
      "UNIQUEID     object\n",
      "HEIGHT        int64\n",
      "dtype: object\n"
     ]
    },
    {
     "data": {
      "image/png": "[encoded data removed]",
      "text/plain": [
       "<Figure size 1000x600 with 1 Axes>"
      ]
     },
     "metadata": {},
     "output_type": "display_data"
    }
   ],
   "source": [
    "# Were these already in the order you would want them to be in order for a graph to make sense? \n",
    "# If not, reorder  the Series.  \n",
    "condition_counts = condition_counts.reindex(['Good', 'Fair', 'Poor'])\n",
    "# If not, reorder  the Series. --- IGNORE ---\n",
    "print(\"Reordered counts of each unique condition in the new DataFrame:\")\n",
    "print(condition_counts) \n",
    "# If not, reorder  the Series. --- IGNORE ---\n",
    "#!/usr/bin/env python3\n",
    "import pandas as pd\n",
    "import numpy as np\n",
    "# Create DataFrame here.\n",
    "df = pd.read_csv('data/newark_tree_data.csv',\n",
    "                    index_col='ID',\n",
    "                    usecols=['ID', 'UNIQUEID', 'COMMON', 'BOTANICAL', 'COND', 'RISK', 'HEIGHT'])        \n",
    "# What attributes (columns) does this DataFrame contain?\n",
    "attributes = df.columns.tolist()\n",
    "print(f\"The DataFrame contains the following attributes: {attributes}\")\n",
    "# What is the data type of each column?\n",
    "data_types = df.dtypes\n",
    "print(\"Data types of each column:\")\n",
    "print(data_types)\n",
    "# Create the new DataFrame here using actual column names from df.\n",
    "new_df = df[['COMMON', 'HEIGHT', 'COND']]\n",
    "new_df.head()\n",
    "# Display the new DataFrame here.\n",
    "new_df.head()\n",
    "# Display the first few rows of the new DataFrame here.\n",
    "new_df.head()\n",
    "# Display the new DataFrame here.\n",
    "new_df.head()\n",
    "# Display the first few rows of the new DataFrame here.\n",
    "new_df.head()\n",
    "\n",
    "# Create a histogram of the 'Height' column\n",
    "plt.figure(figsize=(10, 6))\n",
    "plt.hist(new_df['HEIGHT'], bins=30, color='blue', alpha=0.7)\n",
    "plt.title('Distribution of Tree Heights')\n",
    "plt.xlabel('HEIGHT')\n",
    "plt.ylabel('Frequency')\n",
    "plt.grid(axis='y', alpha=0.75)\n",
    "plt.show()  \n"
   ]
  },
  {
   "cell_type": "code",
   "execution_count": 39,
   "metadata": {},
   "outputs": [
    {
     "data": {
      "image/png": "[encoded data removed]",
      "text/plain": [
       "<Figure size 800x500 with 1 Axes>"
      ]
     },
     "metadata": {},
     "output_type": "display_data"
    },
    {
     "name": "stdout",
     "output_type": "stream",
     "text": [
      "The DataFrame contains the following attributes: ['COMMON', 'BOTANICAL', 'COND', 'RISK', 'UNIQUEID', 'HEIGHT']\n",
      "Data types of each column:\n",
      "COMMON       object\n",
      "BOTANICAL    object\n",
      "COND         object\n",
      "RISK         object\n",
      "UNIQUEID     object\n",
      "HEIGHT        int64\n",
      "dtype: object\n"
     ]
    },
    {
     "data": {
      "text/html": [
       "<div>\n",
       "<style scoped>\n",
       "    .dataframe tbody tr th:only-of-type {\n",
       "        vertical-align: middle;\n",
       "    }\n",
       "\n",
       "    .dataframe tbody tr th {\n",
       "        vertical-align: top;\n",
       "    }\n",
       "\n",
       "    .dataframe thead th {\n",
       "        text-align: right;\n",
       "    }\n",
       "</style>\n",
       "<table border=\"1\" class=\"dataframe\">\n",
       "  <thead>\n",
       "    <tr style=\"text-align: right;\">\n",
       "      <th></th>\n",
       "      <th>COMMON</th>\n",
       "      <th>HEIGHT</th>\n",
       "      <th>COND</th>\n",
       "    </tr>\n",
       "    <tr>\n",
       "      <th>ID</th>\n",
       "      <th></th>\n",
       "      <th></th>\n",
       "      <th></th>\n",
       "    </tr>\n",
       "  </thead>\n",
       "  <tbody>\n",
       "    <tr>\n",
       "      <th>11.0</th>\n",
       "      <td>arborvitae, eastern</td>\n",
       "      <td>40</td>\n",
       "      <td>Good</td>\n",
       "    </tr>\n",
       "    <tr>\n",
       "      <th>12.0</th>\n",
       "      <td>arborvitae, eastern</td>\n",
       "      <td>40</td>\n",
       "      <td>Very Good</td>\n",
       "    </tr>\n",
       "    <tr>\n",
       "      <th>13.0</th>\n",
       "      <td>pine, eastern white</td>\n",
       "      <td>54</td>\n",
       "      <td>Good</td>\n",
       "    </tr>\n",
       "    <tr>\n",
       "      <th>14.0</th>\n",
       "      <td>whitecedar, Atlantic</td>\n",
       "      <td>56</td>\n",
       "      <td>Fair</td>\n",
       "    </tr>\n",
       "    <tr>\n",
       "      <th>15.0</th>\n",
       "      <td>whitecedar, Atlantic</td>\n",
       "      <td>55</td>\n",
       "      <td>Fair</td>\n",
       "    </tr>\n",
       "  </tbody>\n",
       "</table>\n",
       "</div>"
      ],
      "text/plain": [
       "                    COMMON  HEIGHT       COND\n",
       "ID                                           \n",
       "11.0   arborvitae, eastern      40       Good\n",
       "12.0   arborvitae, eastern      40  Very Good\n",
       "13.0   pine, eastern white      54       Good\n",
       "14.0  whitecedar, Atlantic      56       Fair\n",
       "15.0  whitecedar, Atlantic      55       Fair"
      ]
     },
     "execution_count": 39,
     "metadata": {},
     "output_type": "execute_result"
    }
   ],
   "source": [
    "# Plot the Series here\n",
    "plt.figure(figsize=(8, 5))\n",
    "condition_counts.plot(kind='bar', color=['green', 'orange', 'red'], alpha=0.7)\n",
    "plt.title('Counts of Tree Conditions')\n",
    "plt.xlabel('Condition')\n",
    "plt.ylabel('Count')\n",
    "plt.xticks(rotation=0)\n",
    "plt.grid(axis='y', alpha=0.75)\n",
    "plt.show()\n",
    "#!/usr/bin/env python3\n",
    "import pandas as pd\n",
    "import numpy as np\n",
    "import matplotlib.pyplot as plt\n",
    "# Create DataFrame here.\n",
    "df = pd.read_csv('data/newark_tree_data.csv',\n",
    "                    index_col='ID',\n",
    "                    usecols=['ID', 'UNIQUEID', 'COMMON', 'BOTANICAL', 'COND', 'RISK', 'HEIGHT'])        \n",
    "# What attributes (columns) does this DataFrame contain?\n",
    "attributes = df.columns.tolist()\n",
    "print(f\"The DataFrame contains the following attributes: {attributes}\")\n",
    "# What is the data type of each column?         \n",
    "data_types = df.dtypes\n",
    "print(\"Data types of each column:\")\n",
    "print(data_types)   \n",
    "# Create the new DataFrame here using actual column names from df.\n",
    "new_df = df[['COMMON', 'HEIGHT', 'COND']]\n",
    "new_df.head()\n",
    "# Display the new DataFrame here.\n",
    "new_df.head()\n",
    "# Display the first few rows of the new DataFrame here.\n",
    "new_df.head()\n",
    "# Display the new DataFrame here.\n",
    "new_df.head()\n",
    "# Display the first few rows of the new DataFrame here.\n",
    "new_df.head()\n",
    "\n",
    "        \n"
   ]
  },
  {
   "cell_type": "code",
   "execution_count": 41,
   "metadata": {},
   "outputs": [
    {
     "name": "stdout",
     "output_type": "stream",
     "text": [
      "Number of entries with missing values for the COND attribute: 106\n"
     ]
    }
   ],
   "source": [
    "# How many entries have missing values for the COND attribute? Why are these values missing?    \n",
    "num_missing_cond = new_df['COND'].isnull().sum()\n",
    "print(f\"Number of entries with missing values for the COND attribute: {num_missing_cond}\")\n",
    "\n"
   ]
  },
  {
   "cell_type": "markdown",
   "metadata": {},
   "source": [
    "# Plot a pie chart using the RISK attribute."
   ]
  },
  {
   "cell_type": "markdown",
   "metadata": {},
   "source": [
    "resources:\n",
    "* [Pandas Series Pie](https://pandas.pydata.org/pandas-docs/stable/reference/api/pandas.Series.plot.pie.html#pandas.Series.plot.pie)\n",
    "* [matplotlib pie chart docs](https://matplotlib.org/api/pyplot_api.html#matplotlib.pyplot.pie)"
   ]
  },
  {
   "cell_type": "code",
   "execution_count": 43,
   "metadata": {},
   "outputs": [
    {
     "name": "stdout",
     "output_type": "stream",
     "text": [
      "Counts of each unique risk in the DataFrame:\n",
      "RISK\n",
      "Low         3833\n",
      "Moderate     241\n",
      "High          13\n",
      "Name: count, dtype: int64\n"
     ]
    }
   ],
   "source": [
    "# How can we determine all of the possible values describing the RISK associated with each tree\n",
    "# along with the corresponding row counts?\n",
    "risk_counts = df['RISK'].value_counts()\n",
    "print(\"Counts of each unique risk in the DataFrame:\")\n",
    "print(risk_counts)\n",
    "\n"
   ]
  },
  {
   "cell_type": "code",
   "execution_count": 44,
   "metadata": {},
   "outputs": [
    {
     "data": {
      "text/plain": [
       "<Axes: ylabel='count'>"
      ]
     },
     "execution_count": 44,
     "metadata": {},
     "output_type": "execute_result"
    },
    {
     "data": {
      "image/png": "[encoded data removed]",
      "text/plain": [
       "<Figure size 800x800 with 1 Axes>"
      ]
     },
     "metadata": {},
     "output_type": "display_data"
    }
   ],
   "source": [
    "# Create an array containing the colors green, yellow, and orange\n",
    "# When we create our pie chart, the colors should be associated with the attributes according to the specifications below:\n",
    "# Green -> Low\n",
    "# Yellow -> Moderate\n",
    "# Orange -> High\n",
    "colors = ['green', 'yellow', 'orange']\n",
    "# Create a pie chart using the Series here\n",
    "plt.figure(figsize=(8, 8))\n",
    "risk_counts.plot(kind='pie', colors=colors, autopct='%1.1f%%', startangle=140)\n"
   ]
  },
  {
   "cell_type": "code",
   "execution_count": null,
   "metadata": {},
   "outputs": [
    {
     "data": {
      "image/png": "[encoded data removed]",
      "text/plain": [
       "<Figure size 800x800 with 1 Axes>"
      ]
     },
     "metadata": {},
     "output_type": "display_data"
    }
   ],
   "source": [
    "# Plot the pie chart here\n",
    "plt.figure(figsize=(8, 8))\n",
    "risk_counts.plot(kind='pie', colors=colors, autopct='%1.1f%%', startangle=140)\n",
    "plt.title(\"Distribution of Tree Risk Levels\")\n",
    "plt.ylabel(\"\")  # Remove the y-label\n",
    "plt.show()  \n"
   ]
  },
  {
   "cell_type": "code",
   "execution_count": 48,
   "metadata": {},
   "outputs": [
    {
     "name": "stdout",
     "output_type": "stream",
     "text": [
      "Number of entries with missing values for the RISK attribute: 106\n"
     ]
    }
   ],
   "source": [
    "# How many entries have missing values for the RISK attribute? Why are these values missing?\n",
    "num_missing_risk = df['RISK'].isnull().sum()\n",
    "print(f\"Number of entries with missing values for the RISK attribute: {num_missing_risk}\")\n"
   ]
  },
  {
   "cell_type": "markdown",
   "metadata": {},
   "source": [
    "# Indexing"
   ]
  },
  {
   "cell_type": "code",
   "execution_count": 49,
   "metadata": {},
   "outputs": [
    {
     "name": "stdout",
     "output_type": "stream",
     "text": [
      "COMMON       arborvitae, eastern\n",
      "BOTANICAL     Thuja occidentalis\n",
      "COND                   Very Good\n",
      "RISK                         Low\n",
      "UNIQUEID       LM 20150929141418\n",
      "HEIGHT                        40\n",
      "Name: 12.0, dtype: object\n"
     ]
    }
   ],
   "source": [
    "# Display row by position 1\n",
    "print(df.iloc[1])\n"
   ]
  },
  {
   "cell_type": "code",
   "execution_count": 50,
   "metadata": {},
   "outputs": [
    {
     "name": "stdout",
     "output_type": "stream",
     "text": [
      "COMMON              locust, black\n",
      "BOTANICAL    Robinia pseudoacacia\n",
      "COND                         Poor\n",
      "RISK                     Moderate\n",
      "UNIQUEID        LM 20150929131426\n",
      "HEIGHT                         43\n",
      "Name: 1.0, dtype: object\n"
     ]
    }
   ],
   "source": [
    "# Display row by label 1\n",
    "print(df.loc[1])  # Assuming '1' is a valid index label\n",
    "\n"
   ]
  },
  {
   "cell_type": "code",
   "execution_count": null,
   "metadata": {},
   "outputs": [],
   "source": []
  }
 ],
 "metadata": {
  "kernelspec": {
   "display_name": "venv (3.11.13)",
   "language": "python",
   "name": "python3"
  },
  "language_info": {
   "codemirror_mode": {
    "name": "ipython",
    "version": 3
   },
   "file_extension": ".py",
   "mimetype": "text/x-python",
   "name": "python",
   "nbconvert_exporter": "python",
   "pygments_lexer": "ipython3",
   "version": "3.11.13"
  }
 },
 "nbformat": 4,
 "nbformat_minor": 4
}
